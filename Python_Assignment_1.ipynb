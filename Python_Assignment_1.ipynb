{
  "nbformat": 4,
  "nbformat_minor": 5,
  "metadata": {
    "kernelspec": {
      "display_name": "Python 3",
      "language": "python",
      "name": "python3"
    },
    "language_info": {
      "codemirror_mode": {
        "name": "ipython",
        "version": 3
      },
      "file_extension": ".py",
      "mimetype": "text/x-python",
      "name": "python",
      "nbconvert_exporter": "python",
      "pygments_lexer": "ipython3",
      "version": "3.8.8"
    },
    "colab": {
      "name": "Python Assignment 1.ipynb",
      "provenance": [],
      "include_colab_link": true
    }
  },
  "cells": [
    {
      "cell_type": "markdown",
      "metadata": {
        "id": "view-in-github",
        "colab_type": "text"
      },
      "source": [
        "<a href=\"https://colab.research.google.com/github/felixgt6/hello-world/blob/master/Python_Assignment_1.ipynb\" target=\"_parent\"><img src=\"https://colab.research.google.com/assets/colab-badge.svg\" alt=\"Open In Colab\"/></a>"
      ]
    },
    {
      "cell_type": "markdown",
      "metadata": {
        "id": "dff799b8"
      },
      "source": [
        "# Introduction to Python Assignments - Fall 2021"
      ],
      "id": "dff799b8"
    },
    {
      "cell_type": "markdown",
      "metadata": {
        "id": "4178402d"
      },
      "source": [
        "Python Assignment 1"
      ],
      "id": "4178402d"
    },
    {
      "cell_type": "code",
      "metadata": {
        "id": "d6f3f97c",
        "outputId": "8426fc17-2a8f-4768-e3c8-c22617e3e417"
      },
      "source": [
        "##Write a Python program to get the Python version you are using\n",
        "#from platform import python_version\n",
        "print(python_version())"
      ],
      "id": "d6f3f97c",
      "execution_count": null,
      "outputs": [
        {
          "name": "stdout",
          "output_type": "stream",
          "text": [
            "3.8.8\n"
          ]
        }
      ]
    },
    {
      "cell_type": "code",
      "metadata": {
        "colab": {
          "base_uri": "https://localhost:8080/"
        },
        "id": "e28a7ddd",
        "outputId": "7492db66-c352-419d-8498-75a4ac2a29e9"
      },
      "source": [
        "#Other ways of getting version\n",
        "!python -V\n",
        "!python --version"
      ],
      "id": "e28a7ddd",
      "execution_count": 1,
      "outputs": [
        {
          "output_type": "stream",
          "name": "stdout",
          "text": [
            "Python 3.7.12\n",
            "Python 3.7.12\n"
          ]
        }
      ]
    },
    {
      "cell_type": "code",
      "metadata": {
        "colab": {
          "base_uri": "https://localhost:8080/",
          "height": 217
        },
        "id": "a546e934",
        "outputId": "d66d7a64-6396-4a7a-b299-15f4aaa341d5"
      },
      "source": [
        "#import sys\n",
        "print(sys.executable)\n",
        "print(sys.version)\n",
        "print(sys.version_info)"
      ],
      "id": "a546e934",
      "execution_count": 2,
      "outputs": [
        {
          "output_type": "error",
          "ename": "NameError",
          "evalue": "ignored",
          "traceback": [
            "\u001b[0;31m---------------------------------------------------------------------------\u001b[0m",
            "\u001b[0;31mNameError\u001b[0m                                 Traceback (most recent call last)",
            "\u001b[0;32m<ipython-input-2-4c23c6afcacb>\u001b[0m in \u001b[0;36m<module>\u001b[0;34m()\u001b[0m\n\u001b[1;32m      1\u001b[0m \u001b[0;31m#import sys\u001b[0m\u001b[0;34m\u001b[0m\u001b[0;34m\u001b[0m\u001b[0;34m\u001b[0m\u001b[0m\n\u001b[0;32m----> 2\u001b[0;31m \u001b[0mprint\u001b[0m\u001b[0;34m(\u001b[0m\u001b[0msys\u001b[0m\u001b[0;34m.\u001b[0m\u001b[0mexecutable\u001b[0m\u001b[0;34m)\u001b[0m\u001b[0;34m\u001b[0m\u001b[0;34m\u001b[0m\u001b[0m\n\u001b[0m\u001b[1;32m      3\u001b[0m \u001b[0mprint\u001b[0m\u001b[0;34m(\u001b[0m\u001b[0msys\u001b[0m\u001b[0;34m.\u001b[0m\u001b[0mversion\u001b[0m\u001b[0;34m)\u001b[0m\u001b[0;34m\u001b[0m\u001b[0;34m\u001b[0m\u001b[0m\n\u001b[1;32m      4\u001b[0m \u001b[0mprint\u001b[0m\u001b[0;34m(\u001b[0m\u001b[0msys\u001b[0m\u001b[0;34m.\u001b[0m\u001b[0mversion_info\u001b[0m\u001b[0;34m)\u001b[0m\u001b[0;34m\u001b[0m\u001b[0;34m\u001b[0m\u001b[0m\n",
            "\u001b[0;31mNameError\u001b[0m: name 'sys' is not defined"
          ]
        }
      ]
    },
    {
      "cell_type": "code",
      "metadata": {
        "colab": {
          "base_uri": "https://localhost:8080/"
        },
        "id": "fac5f33f",
        "outputId": "b7bb72ed-a07b-4acb-c235-1f5ee7a11a76"
      },
      "source": [
        "#Write a Python program which accepts the user's first and last name and print them in reverse order with a space between them.\n",
        "FirstName = input(\"What is your First Name? \")\n",
        "LastName = input(\"What is your Last Name? \")\n",
        "print(\"Hello \"+ LastName + \" \"+ FirstName)\n"
      ],
      "id": "fac5f33f",
      "execution_count": 3,
      "outputs": [
        {
          "output_type": "stream",
          "name": "stdout",
          "text": [
            "What is your First Name? Guy\n",
            "What is your Last Name? That\n",
            "Hello That Guy\n"
          ]
        }
      ]
    },
    {
      "cell_type": "code",
      "metadata": {
        "colab": {
          "base_uri": "https://localhost:8080/"
        },
        "id": "2f919fde",
        "outputId": "326cbb19-b61a-4b6f-ddc5-5d0282709c4d"
      },
      "source": [
        "#Write a Python program which accepts the radius of a circle from the user and compute the area.\n",
        "Pie = 3.145\n",
        "RadiusInput = input(\"Enter Radius to Calculate Area: \")\n",
        "Area = (float(RadiusInput) **2)*Pie\n",
        "print(\"Area of the Circle is:\")\n",
        "print(Area)\n"
      ],
      "id": "2f919fde",
      "execution_count": 4,
      "outputs": [
        {
          "output_type": "stream",
          "name": "stdout",
          "text": [
            "Enter Radius to Calculate Area: 5\n",
            "Area of the Circle is:\n",
            "78.625\n"
          ]
        }
      ]
    },
    {
      "cell_type": "code",
      "metadata": {
        "colab": {
          "base_uri": "https://localhost:8080/"
        },
        "id": "601326dd",
        "outputId": "8f430a2c-62db-4f8a-c529-b33995a14c1c"
      },
      "source": [
        "#Write a Python program which accepts the width and length of a rectangle from the user and compute the area and \n",
        "#the periment of the rectangle.\n",
        "RectangleWidth = input(\"Enter Width \")\n",
        "RectangleLength = input(\"Enter Length \")\n",
        "Area = float(RectangleLength) * float(RectangleWidth)\n",
        "Perimeter = (float(RectangleLength)*2)+ (float(RectangleWidth)*2)\n",
        "print('The Area is:')\n",
        "print(Area)\n",
        "print('The Perimeter is:')\n",
        "print(Perimeter)"
      ],
      "id": "601326dd",
      "execution_count": 5,
      "outputs": [
        {
          "output_type": "stream",
          "name": "stdout",
          "text": [
            "Enter Width 8\n",
            "Enter Length 7\n",
            "The Area is:\n",
            "56.0\n",
            "The Perimeter is:\n",
            "30.0\n"
          ]
        }
      ]
    },
    {
      "cell_type": "code",
      "metadata": {
        "id": "1ea28886",
        "outputId": "28905a0b-0f90-45bc-dce3-6f257cc92f6a"
      },
      "source": [
        "#not True\n",
        "a = True\n",
        "c = not a\n",
        "print('not',a,'is:',c)\n"
      ],
      "id": "1ea28886",
      "execution_count": null,
      "outputs": [
        {
          "name": "stdout",
          "output_type": "stream",
          "text": [
            "not True is: False\n"
          ]
        }
      ]
    },
    {
      "cell_type": "code",
      "metadata": {
        "id": "9c7f29f9",
        "outputId": "d0c0c76f-3807-444c-927c-ee4be857b8c2"
      },
      "source": [
        "#not False\n",
        "a = False\n",
        "c = not a\n",
        "print('not',a,'is:',c)\n"
      ],
      "id": "9c7f29f9",
      "execution_count": null,
      "outputs": [
        {
          "name": "stdout",
          "output_type": "stream",
          "text": [
            "not False is: True\n"
          ]
        }
      ]
    },
    {
      "cell_type": "code",
      "metadata": {
        "id": "bb866988"
      },
      "source": [
        ""
      ],
      "id": "bb866988",
      "execution_count": null,
      "outputs": []
    }
  ]
}